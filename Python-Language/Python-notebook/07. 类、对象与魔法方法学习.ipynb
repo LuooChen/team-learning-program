{
 "cells": [
  {
   "cell_type": "markdown",
   "metadata": {},
   "source": [
    "# 07. 类、对象与魔法方法学习\n",
    "---\n",
    "## 类与对象\n",
    "\n",
    "### 练习题\n",
    "\n",
    "1、以下类定义中哪些是类属性，哪些是实例属性？\n",
    "> 类属性：类里面的方法外的属性，所有通过该类进行实例化的对象都能共享, 一般通过`className.attr`读取或写入\n",
    "> 实例属性：实例属性与具体某个实例对象关联，与相同类的其他实例不共享, 一般通过`instanceName.attr`读取或写入\n",
    "\n",
    "2、怎么定义私有⽅法？\n",
    "> 在方法名前加`__`双下划线，伪私有"
   ]
  },
  {
   "cell_type": "markdown",
   "metadata": {},
   "source": [
    "3、尝试执行以下代码，并解释错误原因：\n",
    "```python\n",
    "class C:\n",
    "    def myFun():\n",
    "        print('Hello!')\n",
    "    c = C()\n",
    "    c.myFun()\n",
    "```\n",
    "> python的作用域与缩进有关，没有正确缩进导致第5行代码被识别为类`C`的内部属性，类的函数一定要有一项需要代表实例自身的`self`的指针变量，可以不叫self"
   ]
  },
  {
   "cell_type": "code",
   "execution_count": 41,
   "metadata": {},
   "outputs": [
    {
     "name": "stdout",
     "output_type": "stream",
     "text": [
      "Hello!\n"
     ]
    }
   ],
   "source": [
    "class C:\n",
    "    def myFun(this): #没有self字段（需要代表实例自身的指针变量）\n",
    "        print('Hello!')\n",
    "    c = C() # 没有正确缩进\n",
    "    c.myFun()"
   ]
  },
  {
   "cell_type": "markdown",
   "metadata": {},
   "source": [
    "4、按照以下要求定义一个游乐园门票的类，并尝试计算2个成人+1个小孩平日票价。\n",
    "\n",
    "要求:\n",
    "\n",
    "平日票价100元\n",
    "周末票价为平日的120%\n",
    "儿童票半价\n",
    "```python\n",
    "class Ticket():\n",
    "    # your code here\n",
    "\n",
    "```"
   ]
  },
  {
   "cell_type": "code",
   "execution_count": 47,
   "metadata": {},
   "outputs": [
    {
     "name": "stdout",
     "output_type": "stream",
     "text": [
      "price: 250.0\n"
     ]
    }
   ],
   "source": [
    "class Ticket():\n",
    "    __normalPrice = 100\n",
    "    isChild = False\n",
    "    isWeekEnd = False\n",
    "    def __init__(self, isChild=False, isWeekEnd=False):\n",
    "        self.isChild = isChild\n",
    "        self.isWeekEnd = isWeekEnd\n",
    "    def getSalesPrice(self):\n",
    "        salesPrice = self.__normalPrice\n",
    "        if self.isChild:\n",
    "            salesPrice *= 0.5\n",
    "        if self.isWeekEnd:\n",
    "            salesPrice *= 1.2\n",
    "        return salesPrice\n",
    "adultTicket = Ticket()\n",
    "childTicket = Ticket(True)\n",
    "price = adultTicket.getSalesPrice() * 2 + childTicket.getSalesPrice()\n",
    "print(\"price:\", price)"
   ]
  },
  {
   "cell_type": "code",
   "execution_count": 49,
   "metadata": {},
   "outputs": [
    {
     "name": "stdout",
     "output_type": "stream",
     "text": [
      "into A __new__\n",
      "<class '__main__.A'>\n",
      "into A __init__\n",
      "<__main__.A object at 0x00000226EFF8E520>\n"
     ]
    }
   ],
   "source": [
    "class A(object):\n",
    "    def __init__(self, value):\n",
    "        print(\"into A __init__\")\n",
    "        self.value = value\n",
    "\n",
    "    def __new__(cls, *args, **kwargs):\n",
    "        print(\"into A __new__\")\n",
    "        print(cls)\n",
    "        return object.__new__(cls)\n",
    "\n",
    "a = A('a')\n",
    "print(a)"
   ]
  },
  {
   "cell_type": "markdown",
   "metadata": {},
   "source": [
    "---\n",
    "## 魔法方法\n",
    "魔法方法总是被双下划线包围，例如__init__。\n",
    "\n",
    "魔法方法是面向对象的 Python 的一切，如果你不知道魔法方法，说明你还没能意识到面向对象的 Python 的强大。\n",
    "\n",
    "魔法方法的“魔力”体现在它们总能够在适当的时候被自动调用。\n",
    "\n",
    "魔法方法的第一个参数应为cls（类方法） 或者self（实例方法）。\n",
    "\n",
    "cls：代表一个类的名称\n",
    "self：代表一个实例对象的名称\n",
    "\n",
    "### 练习题\n",
    "\n",
    "1、上面提到了许多魔法方法，如__new__,__init__, __str__,__rstr__,__getitem__,__setitem__等等，请总结它们各自的使用方法。\n",
    "\n",
    "- __new__(cls[, ...])\n",
    "\n",
    "> __new__是在一个对象实例化的时候所调用的第一个方法，在调用__init__初始化前，先调用__new__。\n",
    "> __new__至少要有一个参数cls，代表要实例化的类，此参数在实例化时由 Python 解释器自动提供，后面的参数直接传递给__init__。\n",
    "> __new__对当前类进行了实例化，并将实例返回，传给__init__的self。但是，执行了__new__，并不一定会进入__init__，只有__new__返回了，当前类cls的实例，当前类的__init__才会进入。\n",
    "\n",
    "- __init__(self[, ...])\n",
    "\n",
    "> 构造器，当一个实例被创建的时候调用的初始化方法\n",
    "\n",
    "- __str__(self)\n",
    "\n",
    "> 当你打印一个对象的时候，触发__str__\n",
    "> 当你使用%s格式化的时候，触发__str__\n",
    "> str强转数据类型的时候，触发__str__\n",
    "\n",
    "- __repr__(self):\n",
    "\n",
    "> repr是str的备胎\n",
    "> 有__str__的时候执行__str__,没有实现__str__的时候，执行__repr__\n",
    "> repr(obj)内置函数对应的结果是__repr__的返回值\n",
    "> 当你使用%r格式化的时候 触发__repr__\n",
    "\n",
    "\n",
    "- 容器类型的协议\n",
    "\n",
    "> 如果说你希望定制的容器是不可变的话，你只需要定义__len__()和__getitem__()方法。\n",
    "> 如果你希望定制的容器是可变的话，除了__len__()和__getitem__()方法，你还需要定义__setitem__()和__delitem__()两个方法。\n",
    "\n",
    "> __len__(self)定义当被len()调用时的行为（返回容器中元素的个数）。\n",
    "> __getitem__(self, key)定义获取容器中元素的行为，相当于self[key]。\n",
    "> __setitem__(self, key, value)定义设置容器中指定元素的行为，相当于self[key] = value。\n",
    "> __delitem__(self, key)定义删除容器中指定元素的行为，相当于del self[key]。\n",
    "\n",
    "2、利用python做一个简单的定时器类\n",
    "\n",
    "要求:\n",
    "\n",
    "定制一个计时器的类。\n",
    "start和stop方法代表启动计时和停止计时。\n",
    "假设计时器对象t1，print(t1)和直接调用t1均显示结果。\n",
    "当计时器未启动或已经停止计时时，调用stop方法会给予温馨的提示。\n",
    "两个计时器对象可以进行相加：t1+t2。\n",
    "只能使用提供的有限资源完成。\n"
   ]
  },
  {
   "cell_type": "code",
   "execution_count": null,
   "metadata": {},
   "outputs": [],
   "source": []
  }
 ],
 "metadata": {
  "kernelspec": {
   "display_name": "Python 3",
   "language": "python",
   "name": "python3"
  },
  "language_info": {
   "codemirror_mode": {
    "name": "ipython",
    "version": 3
   },
   "file_extension": ".py",
   "mimetype": "text/x-python",
   "name": "python",
   "nbconvert_exporter": "python",
   "pygments_lexer": "ipython3",
   "version": "3.8.3"
  }
 },
 "nbformat": 4,
 "nbformat_minor": 4
}
