{
 "cells": [
  {
   "cell_type": "markdown",
   "metadata": {},
   "source": [
    "# 08. 模块与datetime模块学习\n",
    "\n",
    "---\n",
    "## 模块\n",
    "\n",
    "在前面我们脚本是用 Python 解释器来编程，如果你从 Python 解释器退出再进入，那么你定义的所有的方法和变量就都消失了。\n",
    "\n",
    "\n",
    "为此 Python 提供了一个办法，把这些定义存放在文件中，为一些脚本或者交互式的解释器实例使用，这个文件被称为模块（Module）。\n",
    "\n",
    "\n",
    "模块是一个包含所有你定义的函数和变量的文件，其后缀名是`.py`。模块可以被别的程序引入，以使用该模块中的函数等功能。这也是使用 Python 标准库的方法。\n",
    "\n",
    "\n",
    "### 练习题\n",
    "\n",
    "1、怎么查出通过 from xx import xx导⼊的可以直接调⽤的⽅法？\n",
    "\n",
    "2、了解Collection模块，编写程序以查询给定列表中最常见的元素。\n",
    "\n",
    "题目说明：\n",
    "\n",
    "输入：language = ['PHP', 'PHP', 'Python', 'PHP', 'Python', 'JS', 'Python', 'Python','PHP', 'Python']\n",
    "\n",
    "输出：Python"
   ]
  },
  {
   "cell_type": "code",
   "execution_count": 27,
   "metadata": {},
   "outputs": [
    {
     "data": {
      "text/plain": [
       "'Python'"
      ]
     },
     "execution_count": 27,
     "metadata": {},
     "output_type": "execute_result"
    }
   ],
   "source": [
    "\"\"\"\n",
    "Input file\n",
    "language = ['PHP', 'PHP', 'Python', 'PHP', 'Python', 'JS', 'Python', 'Python','PHP', 'Python']\n",
    "   \n",
    "Output file\n",
    "Python\n",
    "\"\"\"\n",
    "def most_element(language):\n",
    "    \"\"\" Return a list of lines after inserting a word in a specific line. \"\"\"\n",
    "    from collections import Counter\n",
    "    c = Counter(language)\n",
    "    return max(c)\n",
    "language = ['PHP', 'PHP', 'Python', 'PHP', 'Python', 'JS', 'Python', 'Python','PHP', 'Python']\n",
    "most_element(language)"
   ]
  },
  {
   "cell_type": "markdown",
   "metadata": {},
   "source": [
    "---\n",
    "## datetime模块\n",
    "\n",
    "datetime 是 Python 中处理日期的标准模块，它提供了 4 种对日期和时间进行处理的类：**datetime**、**date**、**time** 和 **timedelta**。\n"
   ]
  },
  {
   "cell_type": "code",
   "execution_count": null,
   "metadata": {},
   "outputs": [],
   "source": [
    "import datetime\n",
    "from dateutil import parser\n",
    "birthDay = parser.parse('1994/10/18').date()\n",
    "dt = datetime.date.today() - birthDay\n",
    "print(dt.days)\n"
   ]
  },
  {
   "cell_type": "markdown",
   "metadata": {},
   "source": [
    "### 练习题\n",
    "\n",
    "1、假设你获取了用户输入的日期和时间如`2020-1-21 9:01:30`，以及一个时区信息如`UTC+5:00`，均是`str`，请编写一个函数将其转换为timestamp："
   ]
  },
  {
   "cell_type": "code",
   "execution_count": 60,
   "metadata": {},
   "outputs": [
    {
     "name": "stdout",
     "output_type": "stream",
     "text": [
      "1591024230.0\n",
      "1590909030.0\n"
     ]
    }
   ],
   "source": [
    "\"\"\"\n",
    "\n",
    "Input file\n",
    "example1: dt_str='2020-6-1 08:10:30', tz_str='UTC+7:00'\n",
    "example2: dt_str='2020-5-31 16:10:30', tz_str='UTC-09:00'\n",
    "\n",
    "Output file\n",
    "result1: 1590973830.0\n",
    "result2: 1590973830.0\n",
    "\"\"\"\n",
    "from dateutil import parser\n",
    "\n",
    "def to_timestamp(dt_str, tz_str):\n",
    "    temp = dt_str + ' ' + tz_str\n",
    "    return parser.parse(temp).timestamp()\n",
    "dt_str1='2020-6-1 08:10:30'\n",
    "tz_str1='UTC+7:00'\n",
    "print(to_timestamp(dt_str1, tz_str1))\n",
    "\n",
    "dt_str2='2020-5-31 16:10:30'\n",
    "tz_str2='UTC-09:00'\n",
    "print(to_timestamp(dt_str2, tz_str2))"
   ]
  },
  {
   "cell_type": "markdown",
   "metadata": {},
   "source": [
    "2、编写Python程序以选择指定年份的所有星期日。"
   ]
  },
  {
   "cell_type": "code",
   "execution_count": 86,
   "metadata": {},
   "outputs": [
    {
     "name": "stdout",
     "output_type": "stream",
     "text": [
      "2019-01-06\n",
      "2019-01-13\n",
      "2019-01-20\n",
      "2019-01-27\n",
      "2019-02-03\n",
      "2019-02-10\n",
      "2019-02-17\n",
      "2019-02-24\n",
      "2019-03-03\n",
      "2019-03-10\n",
      "2019-03-17\n",
      "2019-03-24\n",
      "2019-03-31\n",
      "2019-04-07\n",
      "2019-04-14\n",
      "2019-04-21\n",
      "2019-04-28\n",
      "2019-05-05\n",
      "2019-05-12\n",
      "2019-05-19\n",
      "2019-05-26\n",
      "2019-06-02\n",
      "2019-06-09\n",
      "2019-06-16\n",
      "2019-06-23\n",
      "2019-06-30\n",
      "2019-07-07\n",
      "2019-07-14\n",
      "2019-07-21\n",
      "2019-07-28\n",
      "2019-08-04\n",
      "2019-08-11\n",
      "2019-08-18\n",
      "2019-08-25\n",
      "2019-09-01\n",
      "2019-09-08\n",
      "2019-09-15\n",
      "2019-09-22\n",
      "2019-09-29\n",
      "2019-10-06\n",
      "2019-10-13\n",
      "2019-10-20\n",
      "2019-10-27\n",
      "2019-11-03\n",
      "2019-11-10\n",
      "2019-11-17\n",
      "2019-11-24\n",
      "2019-12-01\n",
      "2019-12-08\n",
      "2019-12-15\n",
      "2019-12-22\n",
      "2019-12-29\n"
     ]
    }
   ],
   "source": [
    "def all_sundays(year):\n",
    "    import datetime\n",
    "    intYear = year\n",
    "    firstDayOfYear = datetime.date(intYear,1,1)\n",
    "    firstDayOfYear += datetime.timedelta(days=7 - firstDayOfYear.isoweekday())\n",
    "    while(firstDayOfYear.year == intYear):\n",
    "        print(firstDayOfYear)\n",
    "        firstDayOfYear += datetime.timedelta(weeks=1)\n",
    "all_sundays(2019)"
   ]
  }
 ],
 "metadata": {
  "kernelspec": {
   "display_name": "Python 3",
   "language": "python",
   "name": "python3"
  },
  "language_info": {
   "codemirror_mode": {
    "name": "ipython",
    "version": 3
   },
   "file_extension": ".py",
   "mimetype": "text/x-python",
   "name": "python",
   "nbconvert_exporter": "python",
   "pygments_lexer": "ipython3",
   "version": "3.8.3"
  }
 },
 "nbformat": 4,
 "nbformat_minor": 4
}
