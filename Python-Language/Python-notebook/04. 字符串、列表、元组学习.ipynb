{
 "cells": [
  {
   "cell_type": "markdown",
   "metadata": {},
   "source": [
    "# 04. 字符串、列表、元组学习\n",
    "## 字符串(str)\n",
    "\n",
    "### 练习题\n",
    "\n",
    "1、字符串函数回顾\n",
    "\n",
    "- 怎么批量替换字符串中的元素？\n",
    "> `replace(old, new [, max])`方法，但是如果是比较复杂的规则替换应该用正则表达式比较合理\n",
    "\n",
    "- 怎么把字符串按照空格进⾏拆分？\n",
    "> `split(str=\"\", num)`方法，返回切片后的子字符串拼接的列表\n",
    "\n",
    "- 怎么去除字符串⾸位的空格？\n",
    "> `lstrip([chars])` 截掉字符串左边的空格或指定字符。\n",
    "> `rstrip([chars])` 删除字符串末尾的空格或指定字符。\n",
    "> `strip([chars])` 在字符串上执行`lstrip()`和`rstrip()`。\n",
    "\n",
    "2、实现isdigit函数\n",
    "\n",
    "题目要求\n",
    "\n",
    "实现函数isdigit， 判断字符串里是否只包含数字0~9"
   ]
  },
  {
   "cell_type": "markdown",
   "metadata": {},
   "source": [
    "- 方法1：通过isnumeric方法"
   ]
  },
  {
   "cell_type": "code",
   "execution_count": 1,
   "metadata": {},
   "outputs": [
    {
     "name": "stdout",
     "output_type": "stream",
     "text": [
      "False\n",
      "True\n"
     ]
    }
   ],
   "source": [
    "def isdigit(string) -> bool:\n",
    "    \"\"\"\n",
    "    判断字符串只包含数字\n",
    "    :param string:\n",
    "    :return:\n",
    "    \"\"\"\n",
    "    return string.isnumeric()\n",
    "\n",
    "print(isdigit('test123'))\n",
    "print(isdigit('123'))"
   ]
  },
  {
   "cell_type": "markdown",
   "metadata": {},
   "source": [
    "- 方法2：通过try except"
   ]
  },
  {
   "cell_type": "code",
   "execution_count": 2,
   "metadata": {},
   "outputs": [
    {
     "name": "stdout",
     "output_type": "stream",
     "text": [
      "False\n",
      "True\n"
     ]
    }
   ],
   "source": [
    "def isdigit(string) -> bool:\n",
    "    \"\"\"\n",
    "    判断字符串只包含数字\n",
    "    :param string:\n",
    "    :return:\n",
    "    \"\"\"\n",
    "    try:\n",
    "       int(string)\n",
    "    except ValueError:\n",
    "        return False\n",
    "    return True\n",
    "\n",
    "print(isdigit('test123'))\n",
    "print(isdigit('123'))"
   ]
  },
  {
   "cell_type": "markdown",
   "metadata": {},
   "source": [
    "\n",
    "3、leetcode 5题 最长回文子串\n",
    "\n",
    "给定一个字符串 `s`，找到 `s` 中最长的回文子串。你可以假设 `s` 的最大长度为 1000。\n",
    "\n",
    "示例:\n",
    "\n",
    "输入: \"babad\"\n",
    "\n",
    "输出: \"bab\"\n",
    "\n",
    "输入: \"cbbd\"\n",
    "\n",
    "输出: \"bb\"\n"
   ]
  },
  {
   "cell_type": "code",
   "execution_count": 3,
   "metadata": {},
   "outputs": [
    {
     "name": "stdout",
     "output_type": "stream",
     "text": [
      "testset\n"
     ]
    }
   ],
   "source": [
    "\"\"\"\n",
    "循环遍历每一个可能的回文字符串中心，找到当前中心下最长的回文字符串，比较所有中心的回文字符串，获得最长回文字符串\n",
    "\"\"\"\n",
    "class Solution:\n",
    "    def extendAroundCenter(self, s: str, left: int, right: int) -> int:\n",
    "        sLen = len(s)\n",
    "        while left >= 0 and right < sLen and s[left] == s[right]:\n",
    "            left -= 1\n",
    "            right += 1\n",
    "        return right - left - 1\n",
    "    def longestPalindrome(self, s: str) -> str:\n",
    "        sLen = len(s)\n",
    "        start, end = 0, 0\n",
    "        for i, val in enumerate(s):\n",
    "            len1 = self.extendAroundCenter(s, i, i)\n",
    "            len2 = self.extendAroundCenter(s, i, i + 1)\n",
    "            maxLen = max(len1, len2)\n",
    "            if maxLen > int(end - start + 1):\n",
    "                start = i - (maxLen - 1) // 2\n",
    "                end = i + maxLen // 2\n",
    "        return s[int(start):int(end)+1]\n",
    "test = Solution()\n",
    "teststr = test.longestPalindrome('btestseta')\n",
    "print(teststr)"
   ]
  },
  {
   "cell_type": "markdown",
   "metadata": {},
   "source": [
    "---"
   ]
  },
  {
   "cell_type": "markdown",
   "metadata": {},
   "source": [
    "## 列表(list)\n",
    "**练习题**：\n",
    "\n",
    "1、列表操作练习\n",
    "\n",
    "列表lst 内容如下\n",
    "\n",
    "lst = [2, 5, 6, 7, 8, 9, 2, 9, 9]\n",
    "\n",
    "请写程序完成下列操作：\n",
    "\n",
    "1. 在列表的末尾增加元素15"
   ]
  },
  {
   "cell_type": "code",
   "execution_count": 4,
   "metadata": {},
   "outputs": [
    {
     "name": "stdout",
     "output_type": "stream",
     "text": [
      "[2, 5, 6, 7, 8, 9, 2, 9, 9, 15]\n"
     ]
    }
   ],
   "source": [
    "lst = [2, 5, 6, 7, 8, 9, 2, 9, 9]\n",
    "lst.append(15)\n",
    "print(lst)"
   ]
  },
  {
   "cell_type": "markdown",
   "metadata": {},
   "source": [
    "2. 在列表的中间位置插入元素20"
   ]
  },
  {
   "cell_type": "code",
   "execution_count": 5,
   "metadata": {},
   "outputs": [
    {
     "name": "stdout",
     "output_type": "stream",
     "text": [
      "[2, 5, 6, 7, 8, 9, 20, 2, 9, 9, 15]\n"
     ]
    }
   ],
   "source": [
    "lst.insert(6, 20)\n",
    "print(lst)"
   ]
  },
  {
   "cell_type": "markdown",
   "metadata": {},
   "source": [
    "3. 将列表[2, 5, 6]合并到lst中"
   ]
  },
  {
   "cell_type": "code",
   "execution_count": 6,
   "metadata": {},
   "outputs": [
    {
     "name": "stdout",
     "output_type": "stream",
     "text": [
      "[2, 5, 6, 7, 8, 9, 20, 2, 9, 9, 15, 2, 5, 6]\n"
     ]
    }
   ],
   "source": [
    "lst.extend([2, 5, 6])\n",
    "print(lst)"
   ]
  },
  {
   "cell_type": "markdown",
   "metadata": {},
   "source": [
    "4. 移除列表中索引为3的元素"
   ]
  },
  {
   "cell_type": "code",
   "execution_count": 7,
   "metadata": {},
   "outputs": [
    {
     "data": {
      "text/plain": [
       "7"
      ]
     },
     "execution_count": 7,
     "metadata": {},
     "output_type": "execute_result"
    }
   ],
   "source": [
    "lst.pop(3)"
   ]
  },
  {
   "cell_type": "markdown",
   "metadata": {},
   "source": [
    "5. 翻转列表里的所有元素"
   ]
  },
  {
   "cell_type": "code",
   "execution_count": 8,
   "metadata": {},
   "outputs": [
    {
     "name": "stdout",
     "output_type": "stream",
     "text": [
      "[6, 5, 2, 15, 9, 9, 2, 20, 9, 8, 6, 5, 2]\n"
     ]
    }
   ],
   "source": [
    "lst.reverse()\n",
    "print(lst)"
   ]
  },
  {
   "cell_type": "markdown",
   "metadata": {},
   "source": [
    "6. 对列表里的元素进行排序，从小到大一次，从大到小一次"
   ]
  },
  {
   "cell_type": "code",
   "execution_count": 9,
   "metadata": {},
   "outputs": [
    {
     "name": "stdout",
     "output_type": "stream",
     "text": [
      "[2, 2, 2, 5, 5, 6, 6, 8, 9, 9, 9, 15, 20]\n",
      "[20, 15, 9, 9, 9, 8, 6, 6, 5, 5, 2, 2, 2]\n"
     ]
    }
   ],
   "source": [
    "lst.sort(reverse=False)\n",
    "print(lst)\n",
    "lst.sort(reverse=True)\n",
    "print(lst)"
   ]
  },
  {
   "cell_type": "markdown",
   "metadata": {},
   "source": [
    "\n",
    "2、修改列表\n",
    "\n",
    "问题描述：\n",
    "\n",
    "lst = [1, [4, 6], True]\n",
    "\n",
    "请将列表里所有数字修改成原来的两倍"
   ]
  },
  {
   "cell_type": "code",
   "execution_count": 10,
   "metadata": {},
   "outputs": [
    {
     "name": "stdout",
     "output_type": "stream",
     "text": [
      "[1, [4, 6], True]\n",
      "[2, [8, 12], True]\n"
     ]
    }
   ],
   "source": [
    "def doubleNum(lst: list) -> list:\n",
    "    for i, item in enumerate(lst):\n",
    "        if isinstance(item, bool):\n",
    "            continue\n",
    "        elif isinstance(item, int):\n",
    "            lst[i] = item*2\n",
    "        elif isinstance(item, list):\n",
    "            doubleNum(item)\n",
    "lst = [1, [4, 6], True]\n",
    "print(lst)\n",
    "doubleNum(lst)\n",
    "print(lst)"
   ]
  },
  {
   "cell_type": "markdown",
   "metadata": {},
   "source": [
    "- bool型在这里也被识别成了int型，与int计算时，True表示1，Flase表示0"
   ]
  },
  {
   "cell_type": "code",
   "execution_count": 11,
   "metadata": {},
   "outputs": [
    {
     "name": "stdout",
     "output_type": "stream",
     "text": [
      "True\n",
      "2\n",
      "0\n"
     ]
    }
   ],
   "source": [
    "print(isinstance(True, int))\n",
    "print(True * 2)\n",
    "print(False * 2)"
   ]
  },
  {
   "cell_type": "markdown",
   "metadata": {},
   "source": [
    "3、leetcode 852题 山脉数组的峰顶索引\n",
    "\n",
    "如果一个数组k符合下面两个属性，则称之为山脉数组\n",
    "\n",
    "数组的长度大于等于3\n",
    "\n",
    "存在$i$，$i$ >0 且$i<\\operatorname{len}(k)-1$， 使得$$\\mathrm{k}[0]<\\mathrm{k}[1]<\\ldots<\\mathrm{k}[\\mathrm{i}-1]<\\mathrm{k}[\\mathrm{j}]>\\mathrm{k}[\\mathrm{i}+1] \\ldots>\\mathrm{k}[\\operatorname{len}(\\mathrm{k})-1]$$\n",
    "\n",
    "这个$i$就是顶峰索引。\n",
    "\n",
    "现在，给定一个山脉数组，求顶峰索引。\n",
    "\n",
    "示例:\n",
    "\n",
    "输入：[1, 3, 4, 5, 3]\n",
    "\n",
    "输出：True\n",
    "\n",
    "输入：[1, 2, 4, 6, 4, 5]\n",
    "\n",
    "输出：False\n",
    "\n",
    "```python\n",
    "class Solution:\n",
    "    def peakIndexInMountainArray(self, A: List[int]) -> int:\n",
    "       \n",
    "    # your code here\n",
    "```"
   ]
  },
  {
   "cell_type": "code",
   "execution_count": 12,
   "metadata": {},
   "outputs": [
    {
     "name": "stdout",
     "output_type": "stream",
     "text": [
      "3\n"
     ]
    }
   ],
   "source": [
    "from typing import List\n",
    "class Solution:\n",
    "    def peakIndexInMountainArray(self, A: List[int]) -> int:\n",
    "        i = 1\n",
    "        for index, item in enumerate(A):\n",
    "            if (item > A[index + 1]): \n",
    "                i = index\n",
    "                break\n",
    "        return i\n",
    "so = Solution()\n",
    "moutainArray = [1, 2, 4, 6, 4, 5]\n",
    "peakIndex = so.peakIndexInMountainArray(moutainArray)\n",
    "print(peakIndex)"
   ]
  },
  {
   "cell_type": "markdown",
   "metadata": {},
   "source": [
    "---\n",
    "## 元组(tuple)\n",
    "**练习题**：\n",
    "\n",
    "1、元组概念\n",
    "\n",
    "写出下面代码的执行结果和最终结果的类型"
   ]
  },
  {
   "cell_type": "code",
   "execution_count": 13,
   "metadata": {},
   "outputs": [
    {
     "name": "stdout",
     "output_type": "stream",
     "text": [
      "(1, 2, 1, 2) (1, 1) 2\n"
     ]
    }
   ],
   "source": [
    "t1 = (1, 2)*2\n",
    "t2 = (1, )*2\n",
    "t3 = (1)*2\n",
    "print(t1,t2,t3)"
   ]
  },
  {
   "cell_type": "markdown",
   "metadata": {},
   "source": [
    "分析为什么会出现这样的结果.\n",
    "> 因为`t1,t2`是元组，对元组来说`*`是复制运算符。\n",
    "\n",
    "> `t3`得`()`是运算符，`t3`表示数字，因此`*`表示乘法运算符"
   ]
  },
  {
   "cell_type": "markdown",
   "metadata": {},
   "source": [
    "2、拆包过程是什么？\n",
    "> 将元组中的元素拆分出来"
   ]
  },
  {
   "cell_type": "code",
   "execution_count": 14,
   "metadata": {},
   "outputs": [
    {
     "name": "stdout",
     "output_type": "stream",
     "text": [
      "(1, 2)\n"
     ]
    }
   ],
   "source": [
    "a, b = 1, 2\n",
    "test = 1, 2\n",
    "print(test)"
   ]
  },
  {
   "cell_type": "markdown",
   "metadata": {},
   "source": [
    "上述过程属于拆包吗？\n",
    "> `1, 2`属于省略了`()`的元组，因此属于拆包\n",
    "\n",
    "可迭代对象拆包时，怎么赋值给占位符？\n",
    "\n",
    "> 不仅是元组， 在python中任何序列或可迭代对象（如：列表、元组、字符串、文件对象、迭代器和生成器等），皆可通过类似这样的简单赋值语句拆包给多个变量。"
   ]
  },
  {
   "cell_type": "code",
   "execution_count": 15,
   "metadata": {},
   "outputs": [
    {
     "name": "stdout",
     "output_type": "stream",
     "text": [
      "1 2 3\n",
      "[4, 5, 6]\n"
     ]
    }
   ],
   "source": [
    "a, b, c, *rest = (1,2,3,4,5,6)\n",
    "print(a,b,c)\n",
    "print(rest)"
   ]
  }
 ],
 "metadata": {
  "kernelspec": {
   "display_name": "Python 3",
   "language": "python",
   "name": "python3"
  },
  "language_info": {
   "codemirror_mode": {
    "name": "ipython",
    "version": 3
   },
   "file_extension": ".py",
   "mimetype": "text/x-python",
   "name": "python",
   "nbconvert_exporter": "python",
   "pygments_lexer": "ipython3",
   "version": "3.8.3"
  }
 },
 "nbformat": 4,
 "nbformat_minor": 4
}
