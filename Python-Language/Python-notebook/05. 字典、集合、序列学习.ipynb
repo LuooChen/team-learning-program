{
 "cells": [
  {
   "cell_type": "markdown",
   "metadata": {},
   "source": [
    "# 05. 字典、集合、序列学习"
   ]
  },
  {
   "cell_type": "markdown",
   "metadata": {},
   "source": [
    "## 字典(dict)\n",
    "### 1. 可变类型与不可变类型\n",
    "\n",
    "- 序列是以连续的整数为索引，与此不同的是，字典以\"关键字\"为索引，关键字可以是任意不可变类型，通常用字符串或数值。\n",
    "- 字典是 Python 唯一的一个 <u>映射类型</u>，字符串、元组、列表属于<u>序列类型</u>。\n",
    "\n",
    "那么如何快速判断一个数据类型 `X` 是不是可变类型的呢？两种方法：\n",
    "\n",
    "- 麻烦方法：用 `id(X)` 函数，对 X 进行某种操作，比较操作前后的 `id`，如果不一样，则 `X` 不可变，如果一样，则 `X` 可变。\n",
    "- 便捷方法：用 `hash(X)`，只要不报错，证明 `X` 可被哈希，即不可变，反过来不可被哈希，即可变。\n",
    "\n",
    "> 与Java的HashMap相似，但是Java中可以使用可变对象作为key，在编译上不会报错，不过会导致实际使用变动后的key去取值时，找不到相应的value(因为key的hash值变了，而Map是根据hash值去找到value所在的位置)"
   ]
  },
  {
   "cell_type": "code",
   "execution_count": 1,
   "metadata": {},
   "outputs": [
    {
     "name": "stdout",
     "output_type": "stream",
     "text": [
      "140737210693408\n",
      "140737210693472\n",
      "2891836021440\n",
      "2891836021440\n"
     ]
    }
   ],
   "source": [
    "i = 1\n",
    "print(id(i))\n",
    "i = i + 2\n",
    "print(id(i))\n",
    "\n",
    "l = ['a']\n",
    "print(id(l))\n",
    "l.append('b')\n",
    "print(id(l))"
   ]
  },
  {
   "cell_type": "code",
   "execution_count": 2,
   "metadata": {},
   "outputs": [
    {
     "name": "stdout",
     "output_type": "stream",
     "text": [
      "7116894406179728072\n"
     ]
    }
   ],
   "source": [
    "print(hash('hello'))\n",
    "\n",
    "# print(hash(['a']))\n",
    "# TypeError: unhashable type: 'list'"
   ]
  },
  {
   "cell_type": "markdown",
   "metadata": {},
   "source": [
    "- 数值、字符和元组 都能被哈希，因此它们是不可变类型。\n",
    "- 列表、集合、字典不能被哈希，因此它是可变类型。"
   ]
  },
  {
   "cell_type": "markdown",
   "metadata": {},
   "source": [
    "### 2. 字典的定义\n",
    "\n",
    "字典 是无序的 键:值（`key:value`）对集合，键必须是互不相同的（在同一个字典之内）。\n",
    "\n",
    "- `dict` 内部存放的顺序和 `key` 放入的顺序是没有关系的。\n",
    "- `dict` 查找和插入的速度极快，不会随着 `key` 的增加而增加，但是需要占用大量的内存。\n",
    "\n",
    "\n",
    "字典 定义语法为 `{元素1, 元素2, ..., 元素n}`\n",
    "\n",
    "- 其中每一个元素是一个「键值对」-- 键:值 (`key:value`)\n",
    "- 关键点是「大括号 {}」,「逗号 ,」和「冒号 :」\n",
    "- 大括号 -- 把所有元素绑在一起\n",
    "- 逗号 -- 将每个键值对分开\n",
    "- 冒号 -- 将键和值分开"
   ]
  },
  {
   "cell_type": "code",
   "execution_count": 3,
   "metadata": {},
   "outputs": [
    {
     "name": "stdout",
     "output_type": "stream",
     "text": [
      "{1: 'a', 2: 'b'}\n",
      "a\n"
     ]
    }
   ],
   "source": [
    "dict1 = {1: 'a', 2: 'b'}\n",
    "print(dict1)\n",
    "print(dict1[1])\n",
    "# print(dict1[0])\n",
    "# KeyError: 0 只能通过key访问"
   ]
  },
  {
   "cell_type": "markdown",
   "metadata": {},
   "source": [
    "【例子】通过元组作为`key`来创建字典，但一般不这样使用。\n"
   ]
  },
  {
   "cell_type": "code",
   "execution_count": 4,
   "metadata": {},
   "outputs": [
    {
     "name": "stdout",
     "output_type": "stream",
     "text": [
      "{(1, 2, 3): 'Tom', 'Age': 12, 3: [3, 5, 7]}\n",
      "<class 'dict'>\n"
     ]
    }
   ],
   "source": [
    "dic = {(1, 2, 3): \"Tom\", \"Age\": 12, 3: [3, 5, 7]}\n",
    "print(dic)  # {(1, 2, 3): 'Tom', 'Age': 12, 3: [3, 5, 7]}\n",
    "print(type(dic))  # <class 'dict'>"
   ]
  },
  {
   "cell_type": "markdown",
   "metadata": {},
   "source": [
    "【注意】如果元组中的元素不是不可变对象就不能这样用"
   ]
  },
  {
   "cell_type": "code",
   "execution_count": 5,
   "metadata": {},
   "outputs": [
    {
     "name": "stdout",
     "output_type": "stream",
     "text": [
      "-3550055125485641917\n"
     ]
    }
   ],
   "source": [
    "mutableL = ['a']\n",
    "print(hash((1,2)))\n",
    "# print(hash((1, mutableL)))\n",
    "# dict2 = {(mutableL): 'a', 1: 'b'}\n",
    "# TypeError: unhashable type: 'list'"
   ]
  },
  {
   "cell_type": "markdown",
   "metadata": {},
   "source": [
    "通过构造函数`dict`来创建字典。\n",
    "- `dict()` 创建一个空的字典。\n",
    "\n",
    "【例子】通过`key`直接把数据放入字典中，但一个`key`只能对应一个`value`，多次对一个`key`放入 `value`，后面的值会把前面的值冲掉。"
   ]
  },
  {
   "cell_type": "code",
   "execution_count": 6,
   "metadata": {},
   "outputs": [
    {
     "name": "stdout",
     "output_type": "stream",
     "text": [
      "{'a': 11}\n"
     ]
    }
   ],
   "source": [
    "dic = dict()\n",
    "dic['a'] = 1\n",
    "dic['a'] = 11\n",
    "print(dic)"
   ]
  },
  {
   "cell_type": "markdown",
   "metadata": {},
   "source": [
    "`dict(mapping)` new dictionary initialized from a mapping object's (key, value) pairs\n",
    "【例子】"
   ]
  },
  {
   "cell_type": "code",
   "execution_count": 7,
   "metadata": {},
   "outputs": [
    {
     "name": "stdout",
     "output_type": "stream",
     "text": [
      "{'apple': 4139, 'peach': 4127, 'cherry': 4098}\n",
      "{'apple': 4139, 'peach': 4127, 'cherry': 4098}\n"
     ]
    }
   ],
   "source": [
    "dic1 = dict([('apple', 4139), ('peach', 4127), ('cherry', 4098)])\n",
    "print(dic1)  # {'cherry': 4098, 'apple': 4139, 'peach': 4127}\n",
    "\n",
    "dic2 = dict((('apple', 4139), ('peach', 4127), ('cherry', 4098)))\n",
    "print(dic2)  # {'peach': 4127, 'cherry': 4098, 'apple': 4139}"
   ]
  },
  {
   "cell_type": "markdown",
   "metadata": {},
   "source": [
    "- `dict(**kwargs)` -> new dictionary initialized with the name=value pairs in the keyword argument list.  For example:  dict(one=1, two=2)\n",
    "\n",
    "【例子】这种情况下，键只能为字符串类型，并且创建的时候字符串不能加引号，加上就会直接报语法错误。"
   ]
  },
  {
   "cell_type": "code",
   "execution_count": 8,
   "metadata": {},
   "outputs": [
    {
     "name": "stdout",
     "output_type": "stream",
     "text": [
      "{'name': 'Tom', 'age': 10}\n",
      "<class 'dict'>\n"
     ]
    }
   ],
   "source": [
    "dic = dict(name='Tom', age=10)\n",
    "print(dic)  # {'name': 'Tom', 'age': 10}\n",
    "print(type(dic))  # <class 'dict'>"
   ]
  },
  {
   "cell_type": "markdown",
   "metadata": {},
   "source": [
    "**练习题**：\n",
    "\n",
    "1、字典基本操作\n",
    "\n",
    "字典内容如下:\n",
    "\n",
    "```python\n",
    "dic = {\n",
    "    'python': 95,\n",
    "    'java': 99,\n",
    "    'c': 100\n",
    "    }\n",
    "```\n",
    "\n",
    "用程序解答下面的题目\n",
    "\n",
    "- 字典的长度是多少"
   ]
  },
  {
   "cell_type": "code",
   "execution_count": 9,
   "metadata": {},
   "outputs": [
    {
     "name": "stdout",
     "output_type": "stream",
     "text": [
      "98\n",
      "{'python': 95, 'java': 98, 'php': 90}\n",
      "<class 'dict_keys'>\n",
      "['python', 'java', 'php']\n",
      "<class 'dict_values'>\n",
      "[95, 98, 90]\n",
      "False\n",
      "283\n",
      "98\n",
      "90\n",
      "{'python': 95, 'java': 98, 'php': 97}\n"
     ]
    }
   ],
   "source": [
    "dic = {\n",
    "    'python': 95,\n",
    "    'java': 99,\n",
    "    'c': 100\n",
    "    }\n",
    "# 字典的长度是多少\n",
    "len(dic)\n",
    "# 请修改'java' 这个key对应的value值为98\n",
    "dic['java'] = 98\n",
    "print(dic['java'])\n",
    "# 删除 c 这个key\n",
    "dic.pop('c')\n",
    "# 增加一个key-value对，key值为 php, value是90\n",
    "dic['php'] = 90\n",
    "print(dic)\n",
    "# 获取所有的key值，存储在列表里\n",
    "dicKeys = dic.keys()\n",
    "print(type(dicKeys))\n",
    "lDicKeys = list(dicKeys)\n",
    "print(lDicKeys)\n",
    "# 获取所有的value值，存储在列表里\n",
    "dicValues = dic.values()\n",
    "print(type(dicValues))\n",
    "lDicValues = list(dicValues)\n",
    "print(lDicValues)\n",
    "# 判断 javascript 是否在字典中\n",
    "print('javascript' in dic)\n",
    "# 获得字典里所有value 的和\n",
    "print(sum(lDicValues))\n",
    "# 获取字典里最大的value\n",
    "print(max(lDicValues))\n",
    "# 获取字典里最小的value\n",
    "print(min(lDicValues))\n",
    "# 字典 dic1 = {'php': 97}， 将dic1的数据更新到dic中\n",
    "dic1 = {'php': 97}\n",
    "dic.update(dic1)\n",
    "print(dic)"
   ]
  },
  {
   "cell_type": "markdown",
   "metadata": {},
   "source": [
    "有一个字典，保存的是学生各个编程语言的成绩，内容如下\n",
    "\n",
    "```\n",
    "data = {\n",
    "        'python': {'上学期': '90', '下学期': '95'},\n",
    "        'c++': ['95', '96', '97'],\n",
    "        'java': [{'月考':'90', '期中考试': '94', '期末考试': '98'}]\n",
    "        }\n",
    "```"
   ]
  },
  {
   "cell_type": "markdown",
   "metadata": {},
   "source": [
    "各门课程的考试成绩存储方式并不相同，有的用字典，有的用列表，但是分数都是字符串类型，请实现函数`transfer_score(score_dict)`，将分数修改成int类型"
   ]
  },
  {
   "cell_type": "code",
   "execution_count": 15,
   "metadata": {},
   "outputs": [
    {
     "name": "stdout",
     "output_type": "stream",
     "text": [
      "{'python': {'上学期': 90, '下学期': 95}, 'c++': [95, 96, 97], 'java': [{'月考': 90, '期中考试': 94, '期末考试': 98}]}\n",
      "{'python': {'上学期': 90, '下学期': 95}, 'c++': [95, 96, 97], 'java': [{'月考': 90, '期中考试': 94, '期末考试': 98}], 'php': [{'月考': [55]}, {'期中考试': [66]}, {'期末考试': [77]}]}\n"
     ]
    }
   ],
   "source": [
    "data = {\n",
    "        'python': {'上学期': '90', '下学期': '95'},\n",
    "        'c++': ['95', '96', '97'],\n",
    "        'java': [{'月考':'90', '期中考试': '94', '期末考试': '98'}]\n",
    "        }\n",
    "\n",
    "data1 = {\n",
    "        'python': {'上学期': '90', '下学期': '95'},\n",
    "        'c++': ['95', '96', '97'],\n",
    "        'java': [{'月考':'90', '期中考试': '94', '期末考试': '98'}],\n",
    "        'php': [{'月考':['55']}, {'期中考试':['66']}, {'期末考试':['77']}]\n",
    "        }\n",
    "\n",
    "\"\"\"\n",
    "通过递归调用的方式，不管里面嵌套了几层不同类型的数据都可以正确的将str转为int\n",
    "仅实现了以下几种类型的判断处理(理论上任何类型都能处理，需要追加代码)：\n",
    "list,dict\n",
    "\"\"\"\n",
    "class transfer_score:\n",
    "    def for_dict(self, data):\n",
    "        for i in data:\n",
    "            if isinstance(data[i], str):\n",
    "                data[i] = self.get_int(data[i])\n",
    "            elif isinstance(data[i], dict):\n",
    "                self.for_dict(data[i])\n",
    "            elif isinstance(data[i], list):\n",
    "                self.for_list(data[i])\n",
    "\n",
    "    def for_list(self, data):\n",
    "        for i in range(len(data)):\n",
    "            if isinstance(data[i], str):\n",
    "                data[i] = self.get_int(data[i])\n",
    "            elif isinstance(data[i], dict):\n",
    "                self.for_dict(data[i])\n",
    "            elif isinstance(data[i], list):\n",
    "                self.for_list(data[i])\n",
    "\n",
    "    def get_int(self, data):\n",
    "        if data.isnumeric():\n",
    "            return int(data)\n",
    "        else:\n",
    "            return data\n",
    "ts = transfer_score()\n",
    "ts.for_dict(data)\n",
    "print(data)\n",
    "\n",
    "ts.for_dict(data1)\n",
    "print(data1)"
   ]
  },
  {
   "cell_type": "code",
   "execution_count": null,
   "metadata": {},
   "outputs": [],
   "source": []
  }
 ],
 "metadata": {
  "kernelspec": {
   "display_name": "Python 3",
   "language": "python",
   "name": "python3"
  },
  "language_info": {
   "codemirror_mode": {
    "name": "ipython",
    "version": 3
   },
   "file_extension": ".py",
   "mimetype": "text/x-python",
   "name": "python",
   "nbconvert_exporter": "python",
   "pygments_lexer": "ipython3",
   "version": "3.8.3"
  }
 },
 "nbformat": 4,
 "nbformat_minor": 4
}
