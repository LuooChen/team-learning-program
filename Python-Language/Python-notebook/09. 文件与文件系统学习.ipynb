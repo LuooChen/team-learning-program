{
 "cells": [
  {
   "cell_type": "markdown",
   "metadata": {},
   "source": [
    "# 09. 文件与文件系统学习\n",
    "---\n",
    "### 练习题\n",
    "\n",
    "1、打开中文字符的文档时，会出现乱码，Python自带的打开文件是否可以指定文字编码？还是只能用相关函数？\n",
    "\n",
    "> 可以使用`encoding`参数设置为`utf-8`的编码格式\n",
    "\n",
    "2、编写程序查找最长的单词\n",
    "\n",
    "输入文档: res/test.txt"
   ]
  },
  {
   "cell_type": "code",
   "execution_count": 19,
   "metadata": {},
   "outputs": [
    {
     "name": "stdout",
     "output_type": "stream",
     "text": [
      "hello world test2\n",
      "['hello', 'world', 'test2']\n",
      "hello\n"
     ]
    }
   ],
   "source": [
    "\"\"\"\n",
    "   \n",
    "Input file\n",
    "   test.txt\n",
    "   \n",
    "Output file\n",
    "   ['general-purpose,', 'object-oriented,']\n",
    "   \n",
    "\"\"\"\n",
    "def longest_word(filename):\n",
    "    longest = ''\n",
    "    try:\n",
    "        with open(filename, 'r') as f:\n",
    "            txt = f.read()\n",
    "            print(txt)\n",
    "            listTxt = txt.split(' ')\n",
    "            print(listTxt)\n",
    "            for i in listTxt:\n",
    "                if len(longest) < len(i):\n",
    "                    longest = i\n",
    "    except OSError as error:\n",
    "        print('出错啦!%s' % str(error))\n",
    "    print(longest)\n",
    "longest_word('test.txt')"
   ]
  }
 ],
 "metadata": {
  "kernelspec": {
   "display_name": "Python 3",
   "language": "python",
   "name": "python3"
  },
  "language_info": {
   "codemirror_mode": {
    "name": "ipython",
    "version": 3
   },
   "file_extension": ".py",
   "mimetype": "text/x-python",
   "name": "python",
   "nbconvert_exporter": "python",
   "pygments_lexer": "ipython3",
   "version": "3.8.3"
  }
 },
 "nbformat": 4,
 "nbformat_minor": 4
}
